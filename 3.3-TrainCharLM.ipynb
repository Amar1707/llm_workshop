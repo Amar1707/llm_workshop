{
 "cells": [
  {
   "cell_type": "markdown",
   "id": "3a28bc7c",
   "metadata": {},
   "source": [
    "# Training of character level language model for names"
   ]
  },
  {
   "cell_type": "code",
   "execution_count": null,
   "id": "06d42342",
   "metadata": {},
   "outputs": [],
   "source": [
    "import os, time, math, pickle\n",
    "import numpy as np, pandas as pd\n",
    "from contextlib import nullcontext\n",
    "import torch"
   ]
  },
  {
   "cell_type": "code",
   "execution_count": null,
   "id": "8cab776d",
   "metadata": {},
   "outputs": [],
   "source": [
    "DATA_DIR = \"data/\""
   ]
  },
  {
   "cell_type": "code",
   "execution_count": null,
   "id": "66a7a590",
   "metadata": {},
   "outputs": [],
   "source": [
    "with open(DATA_DIR + \"meta.pkl\", \"rb\") as f:\n",
    "    meta = pickle.load(f)\n",
    "stoi, itos, vocab_size = meta[\"stoi\"], meta[\"itos\"], meta[\"vocab_size\"]\n",
    "encode = lambda s: [stoi[c] for c in s]\n",
    "decode = lambda l: \"\".join([itos[i] for i in l])\n",
    "print(\"vocab size:\", vocab_size)"
   ]
  },
  {
   "cell_type": "code",
   "execution_count": null,
   "id": "40b1bc3e",
   "metadata": {},
   "outputs": [],
   "source": [
    "TRAINING_CONFIG_DIR = \"config/\"\n",
    "training_config_file = \"charlm_pre-training.py\"\n",
    "#training_config_file = \"charlm_endswith_a.py\"\n",
    "#training_config_file = \"charlm_gender_classification_head.py\"\n",
    "#training_config_file = \"charlm_indian_classification_head.py\"\n",
    "#training_config_file = \"charlm_indian_classification_adapter.py\"\n",
    "#training_config_file = \"charlm_indian_classification_lora.py\"\n",
    "#training_config_file = \"charlm_prompt_tuning.py\"\n",
    "#training_config_file = \"charlm_instruction_tuning.py\"\n",
    "exec(open(TRAINING_CONFIG_DIR + training_config_file).read())"
   ]
  },
  {
   "cell_type": "code",
   "execution_count": null,
   "id": "cc21f68d",
   "metadata": {},
   "outputs": [],
   "source": [
    "if pre_training:\n",
    "    print(\"loading pre-training dataset\")\n",
    "    train_names = pd.read_csv(DATA_DIR + \"train.bin\")[[\"name\"]].values.tolist()\n",
    "    val_names = pd.read_csv(DATA_DIR + \"val.bin\")[[\"name\"]].values.tolist()\n",
    "else:\n",
    "    print(\"loading dataset for task:\", task)\n",
    "    train_names = pd.read_csv(DATA_DIR + task + \"_train.bin\").values.tolist()\n",
    "    val_names = pd.read_csv(DATA_DIR + task + \"_val.bin\").values.tolist()"
   ]
  },
  {
   "cell_type": "code",
   "execution_count": null,
   "id": "756f0eb4",
   "metadata": {},
   "outputs": [],
   "source": [
    "device = \"cpu\"\n",
    "if torch.cuda.is_available():\n",
    "    device=\"cuda\"\n",
    "elif torch.backends.mps.is_available():\n",
    "    device=\"mps\"\n",
    "print(\"device =\", device)"
   ]
  },
  {
   "cell_type": "code",
   "execution_count": null,
   "id": "619a8c76",
   "metadata": {},
   "outputs": [],
   "source": [
    "compile = False\n",
    "if device == \"cuda\":\n",
    "    compile = True\n",
    "    torch.backends.cuda.matmul.allow_tf32 = True  # allow tf32 on matmul\n",
    "    torch.backends.cudnn.allow_tf32 = True  # allow tf32 on cudnn\n",
    "    if torch.cuda.is_bf16_supported():\n",
    "        # automatically chooses appropriate precision for operations\n",
    "        ctx = torch.amp.autocast(device_type=device, dtype=torch.bfloat16)\n",
    "        # gradient scaler disabled in case of bfloat16\n",
    "        scaler = torch.cuda.amp.GradScaler(enabled=False)\n",
    "    else:\n",
    "        ctx = torch.amp.autocast(device_type=device, dtype=torch.float16)\n",
    "        # gradient scaler enabled in case of float16\n",
    "        scaler = torch.cuda.amp.GradScaler(enabled=True)\n",
    "else:\n",
    "    ctx = nullcontext()\n",
    "    # gradient scaling disabled in case of devices other than cuda. No-op in that case\n",
    "    scaler = torch.cuda.amp.GradScaler(enabled=False)"
   ]
  },
  {
   "cell_type": "markdown",
   "id": "a03b24ff",
   "metadata": {
    "slideshow": {
     "slide_type": "slide"
    }
   },
   "source": [
    "<img src=\"assets/floating_point_numbers.png\">\n",
    "\n",
    "source: https://cloud.google.com/tpu/docs/bfloat16"
   ]
  },
  {
   "cell_type": "markdown",
   "id": "f496271b",
   "metadata": {
    "slideshow": {
     "slide_type": "slide"
    }
   },
   "source": [
    "<img src=\"assets/gradient_scaling.png\">\n",
    "\n",
    "source: https://pytorch.org/docs/stable/amp.html"
   ]
  },
  {
   "cell_type": "markdown",
   "id": "55ee3b7f",
   "metadata": {
    "slideshow": {
     "slide_type": "slide"
    }
   },
   "source": [
    "## Mixed Precision Training\n",
    "\n",
    "<img src=\"assets/mixed_precision.png\">\n",
    "\n",
    "source: https://hackernoon.com/rtx-2080ti-vs-gtx-1080ti-fastai-mixed-precision-training-comparisons-on-cifar-100-761d8f615d7f"
   ]
  },
  {
   "cell_type": "code",
   "execution_count": null,
   "id": "9dc122c3",
   "metadata": {},
   "outputs": [],
   "source": [
    "if not pre_training and from_scratch:\n",
    "    print(\"loading pre-trained model\")\n",
    "    checkpoint = torch.load(MODEL_DIR + IN_CHECKPOINT, map_location=device)\n",
    "    config = checkpoint[\"config\"]\n",
    "    print(\"best val loss of pre-trained model:\", checkpoint[\"best_val_loss\"])\n",
    "    print(config)"
   ]
  },
  {
   "cell_type": "code",
   "execution_count": null,
   "id": "100f8f32",
   "metadata": {
    "scrolled": true
   },
   "outputs": [],
   "source": [
    "if not from_scratch:\n",
    "    print(\"loading model from checkpoint\")\n",
    "    checkpoint = torch.load(MODEL_DIR + IN_CHECKPOINT, map_location=device)\n",
    "    config = checkpoint[\"config\"]\n",
    "    model = GPT(config)\n",
    "    state_dict = checkpoint[\"model\"]\n",
    "    unwanted_prefix = \"_orig_mod.\"\n",
    "    for k, v in list(state_dict.items()):\n",
    "        if k.startswith(unwanted_prefix):\n",
    "            state_dict[k[len(unwanted_prefix) :]] = state_dict.pop(k)\n",
    "    model.load_state_dict(state_dict)\n",
    "    iter_num = checkpoint[\"iter_num\"]\n",
    "    best_val_loss = checkpoint[\"best_val_loss\"]\n",
    "else:\n",
    "    print(\"building model from scratch\")\n",
    "    # default configuration\n",
    "    config = config if not pre_training else model_config\n",
    "    # update config if required\n",
    "    config.update(model_extended_config)\n",
    "    model = GPT(config)\n",
    "    if not pre_training:\n",
    "        state_dict = checkpoint[\"model\"]\n",
    "        # unwanted prefix gets added especially running on vms. Getting rid of that\n",
    "        unwanted_prefix = \"_orig_mod.\"\n",
    "        for k, v in list(state_dict.items()):\n",
    "            if k.startswith(unwanted_prefix):\n",
    "                state_dict[k[len(unwanted_prefix) :]] = state_dict.pop(k)\n",
    "        # there might be differences between the saved and created model. Hence disabled strict mode\n",
    "        missing, unexpected = model.load_state_dict(state_dict, strict=False)\n",
    "        print(\"--- missing ---\")\n",
    "        for _ in missing:\n",
    "            print(_)\n",
    "        print(\"--- unexpected ---\")\n",
    "        for _ in unexpected:\n",
    "            print(_)\n",
    "    # updating parameters to resume training from where it was left\n",
    "    iter_num = 0\n",
    "    best_val_loss = 1e9\n",
    "model = model.to(device)\n",
    "print(config)\n",
    "if compile:\n",
    "    print(\"compiling the model... (takes a ~minute)\")\n",
    "    model = torch.compile(model)"
   ]
  },
  {
   "cell_type": "code",
   "execution_count": null,
   "id": "14366920",
   "metadata": {
    "scrolled": true
   },
   "outputs": [],
   "source": [
    "model"
   ]
  },
  {
   "cell_type": "code",
   "execution_count": null,
   "id": "65697279",
   "metadata": {
    "scrolled": true
   },
   "outputs": [],
   "source": [
    "print(\"--- learnable parameters ---\")\n",
    "for pn, p in model.named_parameters():\n",
    "    if p.requires_grad:\n",
    "        print(pn)"
   ]
  },
  {
   "cell_type": "code",
   "execution_count": null,
   "id": "644f16f6",
   "metadata": {},
   "outputs": [],
   "source": [
    "optimizer = model.configure_optimizers(weight_decay, learning_rate)\n",
    "if not from_scratch:\n",
    "    print(\"loading optimizer from checkpoint\")\n",
    "    optimizer.load_state_dict(checkpoint[\"optimizer\"])\n",
    "checkpoint = None  # free-up memory"
   ]
  },
  {
   "cell_type": "code",
   "execution_count": null,
   "id": "5ad53266",
   "metadata": {},
   "outputs": [],
   "source": [
    "tokens_per_iter = batch_size * gradient_accumulation_steps * config[\"block_size\"]\n",
    "print(f\"tokens per iteration will be: {tokens_per_iter:,}\")"
   ]
  },
  {
   "cell_type": "markdown",
   "id": "146c2b4e",
   "metadata": {
    "slideshow": {
     "slide_type": "fragment"
    }
   },
   "source": [
    "## Pre-training Input and target examples\n",
    "\n",
    "<img src=\"assets/input_example.png\">"
   ]
  },
  {
   "cell_type": "code",
   "execution_count": null,
   "id": "f92091a3",
   "metadata": {},
   "outputs": [],
   "source": [
    "train_names[:10]"
   ]
  },
  {
   "cell_type": "code",
   "execution_count": null,
   "id": "556780d5",
   "metadata": {},
   "outputs": [],
   "source": [
    "def get_batch(split, batch_index=None):\n",
    "    data = train_names if split == \"train\" else val_names\n",
    "    if batch_index is not None:\n",
    "        # creating batch specified by batch_index\n",
    "        max_batches = len(data) // batch_size\n",
    "        batch_index = batch_index % max_batches\n",
    "        ix = torch.arange(batch_index * batch_size, (batch_index + 1) * batch_size)\n",
    "    else:\n",
    "        # creating random batch\n",
    "        ix = torch.randint(len(data), (batch_size,))\n",
    "    pad_token = stoi[\"*\"]\n",
    "    if classification_task:\n",
    "        x = torch.ones(batch_size, config[\"block_size\"], dtype=torch.long) * pad_token\n",
    "        y = torch.ones(batch_size, 1, dtype=torch.long) * pad_token\n",
    "        for i, index in enumerate(ix):\n",
    "            encoded = encode(\"{\" + data[index][0])\n",
    "            # left padded\n",
    "            x[i][-len(encoded) :] = torch.Tensor(encoded)\n",
    "            if \"gender\" in task:\n",
    "                y[i][0] = 1 if data[index][1] == \"male\" else 0\n",
    "            if \"indian\" in task:\n",
    "                y[i][0] = 1 if data[index][1] == \"india\" else 0\n",
    "    else:\n",
    "        if pre_training:\n",
    "            x = torch.ones(batch_size, config[\"block_size\"], dtype=torch.long) * pad_token\n",
    "            y = torch.ones(batch_size, config[\"block_size\"], dtype=torch.long) * pad_token\n",
    "            for i, index in enumerate(ix):\n",
    "                encoded = encode(\"{\" + data[index][0] + \"}\")\n",
    "                # randomly selecting starting points in the block to ensure all position embeddings are learnt\n",
    "                start = torch.randint(config[\"block_size\"] - len(encoded) + 1, (1,)).item()\n",
    "                x[i][start : start + len(encoded)] = torch.Tensor(encoded)\n",
    "                y[i][start : start + len(encoded) - 1] = torch.Tensor(encoded[1:])\n",
    "        # instruction-tuning\n",
    "        elif \"0\" in data[0][0]:\n",
    "            x = torch.ones(batch_size, config[\"block_size\"] - prompt_vocab_size, dtype=torch.long) * pad_token\n",
    "            y = torch.ones(batch_size, config[\"block_size\"], dtype=torch.long) * pad_token\n",
    "            for i, index in enumerate(ix):\n",
    "                sep = data[index][0].index(\"0\")\n",
    "                first = encode(data[index][0][:sep])\n",
    "                second = encode(data[index][0][sep + 1 :])\n",
    "                encoded = first + second\n",
    "                x[i][: len(encoded)] = torch.Tensor(encoded)\n",
    "                y[i][prompt_vocab_size + len(first) :\n",
    "                     prompt_vocab_size + len(first) + len(second) - 1] = torch.Tensor(second[1:])\n",
    "        else:\n",
    "            # fine-tuning\n",
    "            x = torch.ones(batch_size, config[\"block_size\"] - prompt_vocab_size, dtype=torch.long) * pad_token\n",
    "            y = torch.ones(batch_size, config[\"block_size\"], dtype=torch.long) * pad_token\n",
    "            for i, index in enumerate(ix):\n",
    "                encoded = encode(\"{\" + data[index][0] + \"}\")\n",
    "                x[i][: len(encoded)] = torch.Tensor(encoded)\n",
    "                y[i][prompt_vocab_size : prompt_vocab_size + len(encoded) - 1] = torch.Tensor(encoded[1:])\n",
    "    pad_mask = torch.ones_like(x)\n",
    "    pad_mask.masked_fill_(x == config.get(\"pad_token\", -100), 0)\n",
    "    if prompt_vocab_size>0:\n",
    "        prompt_pad_mask=torch.ones(batch_size, prompt_vocab_size, dtype=torch.bool)\n",
    "        pad_mask=torch.cat((prompt_pad_mask, pad_mask), dim=1)\n",
    "    pad_mask = torch.stack([x.view(config[\"block_size\"],1) @ x.view(1,config[\"block_size\"]) for x in pad_mask])\n",
    "    pad_mask = pad_mask.reshape(batch_size,1,config[\"block_size\"],config[\"block_size\"])\n",
    "    pad_mask.type(torch.int8)\n",
    "    pad_mask = pad_mask.to(device)\n",
    "    x, y = x.to(device), y.to(device)\n",
    "    if prompt_vocab_size > 0:\n",
    "        prompt = torch.arange(prompt_vocab_size)\n",
    "        prompts = prompt.repeat(batch_size, 1)\n",
    "        prompts = prompts.to(device)\n",
    "    else:\n",
    "        prompts = None\n",
    "    return x, y, prompts, pad_mask"
   ]
  },
  {
   "cell_type": "code",
   "execution_count": null,
   "id": "9b00740c",
   "metadata": {
    "scrolled": true
   },
   "outputs": [],
   "source": [
    "x, y, prompts, pad_mask = get_batch(\"train\")\n",
    "ip = x[0].tolist()\n",
    "op = y[0].tolist()\n",
    "if classification_task:\n",
    "    for i in range(len(ip)):\n",
    "        print(itos[ip[i]])\n",
    "    print(\"class\", op[0])\n",
    "else:\n",
    "    for i in range(prompt_vocab_size):\n",
    "        print(\"prompt\", i, \"-\", itos[op[i]])\n",
    "    for i in range(len(ip)):\n",
    "        print(itos[ip[i]], \"-\", itos[op[i + prompt_vocab_size]])"
   ]
  },
  {
   "cell_type": "code",
   "execution_count": null,
   "id": "df8ac3ed",
   "metadata": {},
   "outputs": [],
   "source": [
    "@torch.no_grad()\n",
    "def estimate_loss():\n",
    "    out = {}\n",
    "    model.eval()\n",
    "    for split in [\"train\", \"val\"]:\n",
    "        losses = torch.zeros(eval_iters)\n",
    "        for k in range(eval_iters):\n",
    "            if split == \"val\":\n",
    "                X, Y, Prompts, Pad_mask = get_batch(split, batch_index=k)\n",
    "            else:\n",
    "                X, Y, Prompts, Pad_mask = get_batch(split)\n",
    "            with ctx:\n",
    "                logits, loss = model(X, Y, prompts=Prompts, pad_mask=Pad_mask)\n",
    "            losses[k] = loss.item()\n",
    "        out[split] = losses.mean()\n",
    "    model.train()\n",
    "    return out\n",
    "\n",
    "\n",
    "def get_lr(it):\n",
    "    # 1) linear warmup for warmup_iters steps\n",
    "    if it < warmup_iters:\n",
    "        return learning_rate * it / warmup_iters\n",
    "    # if decay_lr is false, return maximum learning rate\n",
    "    if not decay_lr:\n",
    "        return learning_rate\n",
    "    # 2) if it > lr_decay_iters, return min learning rate\n",
    "    if it > lr_decay_iters:\n",
    "        return min_lr\n",
    "    # 3) in between, use cosine decay down to min learning rate\n",
    "    decay_ratio = (it - warmup_iters) / (lr_decay_iters - warmup_iters)\n",
    "    assert 0 <= decay_ratio <= 1\n",
    "    coeff = 0.5 * (1.0 + math.cos(math.pi * decay_ratio))  # coeff ranges 0..1\n",
    "    return min_lr + coeff * (learning_rate - min_lr)"
   ]
  },
  {
   "cell_type": "code",
   "execution_count": null,
   "id": "0de00bb4",
   "metadata": {},
   "outputs": [],
   "source": [
    "X, Y, Prompts, Pad_mask = get_batch(\"train\")  # fetch the very first batch\n",
    "t0 = time.time()\n",
    "while True:\n",
    "    # determine and set the learning rate for this iteration\n",
    "    lr = get_lr(iter_num)\n",
    "    \n",
    "    # evaluate the loss on train/val sets and write checkpoints\n",
    "    if iter_num % eval_interval == 0:\n",
    "        losses = estimate_loss()\n",
    "        print(f\"step {iter_num}: train loss {losses['train']:.4f}, val loss {losses['val']:.4f}\")\n",
    "        if not eval_only and (losses[\"val\"] < best_val_loss or always_save_checkpoint):\n",
    "            best_val_loss = losses[\"val\"]\n",
    "            if iter_num > 0:\n",
    "                checkpoint = {\n",
    "                    \"model\": model.state_dict(),\n",
    "                    \"optimizer\": optimizer.state_dict(),\n",
    "                    \"iter_num\": iter_num,\n",
    "                    \"best_val_loss\": best_val_loss,\n",
    "                    \"config\": config,\n",
    "                }\n",
    "                print(f\"saving checkpoint to {MODEL_DIR+OUT_CHECKPOINT}\")\n",
    "                torch.save(checkpoint, MODEL_DIR + OUT_CHECKPOINT)\n",
    "    if eval_only:\n",
    "        break\n",
    "\n",
    "    for micro_step in range(gradient_accumulation_steps):\n",
    "        with ctx:\n",
    "            # forward pass\n",
    "            logits, loss = model(X, Y, prompts=Prompts, pad_mask=Pad_mask)\n",
    "            if gradient_accumulation_steps > 1:\n",
    "                # scaling loss in case of gradient accumulation\n",
    "                loss = loss / gradient_accumulation_steps\n",
    "        X, Y, Prompts, Pad_mask = get_batch(\"train\")\n",
    "        # backward pass. And upscaling the loss if gradient scaling enabled\n",
    "        scaler.scale(loss).backward()\n",
    "    # clip the gradient\n",
    "    if grad_clip != 0.0:\n",
    "        # downscaling the loss before clipping gradients\n",
    "        scaler.unscale_(optimizer)\n",
    "        # clipping gradients\n",
    "        torch.nn.utils.clip_grad_norm_(model.parameters(), grad_clip)\n",
    "    # step the optimizer and unscale loss if gradient clipping disabled\n",
    "    scaler.step(optimizer)\n",
    "    scaler.update()\n",
    "    # flush gradients and free-up memory\n",
    "    optimizer.zero_grad(set_to_none=True)\n",
    "\n",
    "    # timing and logging\n",
    "    t1 = time.time()\n",
    "    dt = t1 - t0\n",
    "    t0 = t1\n",
    "    if do_log and iter_num % log_interval == 0:\n",
    "        # multiply loss to account for division incase of gradient accumulation\n",
    "        lossf = loss.item() * gradient_accumulation_steps\n",
    "        print(f\"iter {iter_num}: loss {lossf:.4f}, time {dt*1000:.2f}ms\")\n",
    "    iter_num += 1\n",
    "\n",
    "    # termination conditions\n",
    "    if iter_num > max_iters:\n",
    "        break"
   ]
  },
  {
   "cell_type": "code",
   "execution_count": null,
   "id": "33dbc4ef",
   "metadata": {},
   "outputs": [],
   "source": [
    "print(\"best val loss:\", round(best_val_loss.item(), 2))"
   ]
  },
  {
   "cell_type": "code",
   "execution_count": null,
   "id": "6cbd5ea8",
   "metadata": {},
   "outputs": [],
   "source": []
  }
 ],
 "metadata": {
  "kernelspec": {
   "display_name": "Python 3 (ipykernel)",
   "language": "python",
   "name": "python3"
  },
  "language_info": {
   "codemirror_mode": {
    "name": "ipython",
    "version": 3
   },
   "file_extension": ".py",
   "mimetype": "text/x-python",
   "name": "python",
   "nbconvert_exporter": "python",
   "pygments_lexer": "ipython3",
   "version": "3.10.8"
  }
 },
 "nbformat": 4,
 "nbformat_minor": 5
}
