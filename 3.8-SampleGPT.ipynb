{
 "cells": [
  {
   "cell_type": "code",
   "execution_count": 1,
   "id": "57ef56d9",
   "metadata": {},
   "outputs": [],
   "source": [
    "import os, pickle, torch\n",
    "from contextlib import nullcontext\n",
    "from model_exercise6_solution import GPT"
   ]
  },
  {
   "cell_type": "code",
   "execution_count": 2,
   "id": "86968b16",
   "metadata": {},
   "outputs": [
    {
     "name": "stdout",
     "output_type": "stream",
     "text": [
      "device = mps\n"
     ]
    }
   ],
   "source": [
    "DATA_DIR = \"data/\"\n",
    "MODEL_DIR = \"models/\"\n",
    "CHECKPOINT = \"gpt.pt\"\n",
    "device = \"cpu\"\n",
    "if torch.cuda.is_available():\n",
    "    device=\"cuda\"\n",
    "elif torch.backends.mps.is_available():\n",
    "    device=\"mps\"\n",
    "print(\"device =\", device)\n",
    "sample_from_base = None  # None"
   ]
  },
  {
   "cell_type": "code",
   "execution_count": 3,
   "id": "db30dad5",
   "metadata": {},
   "outputs": [],
   "source": [
    "compile = False\n",
    "if device == \"cuda\":\n",
    "    compile = True\n",
    "    torch.backends.cuda.matmul.allow_tf32 = True  # allow tf32 on matmul\n",
    "    torch.backends.cudnn.allow_tf32 = True  # allow tf32 on cudnn\n",
    "    if torch.cuda.is_bf16_supported():\n",
    "        ctx = torch.amp.autocast(device_type=device, dtype=torch.bfloat16)\n",
    "    else:\n",
    "        ctx = torch.amp.autocast(device_type=device, dtype=torch.float16)\n",
    "else:\n",
    "    ctx = nullcontext()"
   ]
  },
  {
   "cell_type": "code",
   "execution_count": 4,
   "id": "9684b9d9",
   "metadata": {},
   "outputs": [
    {
     "name": "stdout",
     "output_type": "stream",
     "text": [
      "best val loss: 2.913973808288574\n",
      "total parameters: 25600\n"
     ]
    }
   ],
   "source": [
    "if sample_from_base is None:\n",
    "    checkpoint = torch.load(MODEL_DIR + CHECKPOINT, map_location=device)\n",
    "    print(\"best val loss:\", checkpoint[\"best_val_loss\"].item())\n",
    "    config = checkpoint[\"config\"]\n",
    "    model = GPT(config)\n",
    "    state_dict = checkpoint[\"model\"]\n",
    "    unwanted_prefix = \"_orig_mod.\"\n",
    "    for k, v in list(state_dict.items()):\n",
    "        if k.startswith(unwanted_prefix):\n",
    "            state_dict[k[len(unwanted_prefix) :]] = state_dict.pop(k)\n",
    "    model.load_state_dict(state_dict)\n",
    "else:\n",
    "    config = dict(dropout=0.0)\n",
    "    model = GPT.from_pretrained(sample_from_base, config)\n",
    "    model.crop_block_size(128)\n",
    "    config = model.config\n",
    "model.eval()\n",
    "model = model.to(device)\n",
    "if compile:\n",
    "    print(\"compiling the model... (takes a ~minute)\")\n",
    "    model = torch.compile(model)"
   ]
  },
  {
   "cell_type": "code",
   "execution_count": 5,
   "id": "7965216c",
   "metadata": {},
   "outputs": [
    {
     "data": {
      "text/plain": [
       "{'dropout': 0.2,\n",
       " 'prompt_vocab_size': 20,\n",
       " 'n_layer': 36,\n",
       " 'n_head': 20,\n",
       " 'n_embd': 1280,\n",
       " 'vocab_size': 50261,\n",
       " 'block_size': 128,\n",
       " 'bias': True,\n",
       " 'pad_token': 50260}"
      ]
     },
     "execution_count": 5,
     "metadata": {},
     "output_type": "execute_result"
    }
   ],
   "source": [
    "model.config"
   ]
  },
  {
   "cell_type": "code",
   "execution_count": 6,
   "id": "1ce30522",
   "metadata": {},
   "outputs": [
    {
     "data": {
      "text/plain": [
       "GPT(\n",
       "  (prompt_encoder): Embedding(20, 1280)\n",
       "  (transformer): ModuleDict(\n",
       "    (wte): Embedding(50261, 1280, padding_idx=50260)\n",
       "    (wpe): Embedding(128, 1280)\n",
       "    (drop): Dropout(p=0.2, inplace=False)\n",
       "    (h): ModuleList(\n",
       "      (0-35): 36 x Block(\n",
       "        (ln_1): LayerNorm((1280,), eps=1e-05, elementwise_affine=True)\n",
       "        (attn): CausalSelfAttention(\n",
       "          (c_attn): Linear(in_features=1280, out_features=3840, bias=True)\n",
       "          (c_proj): Linear(in_features=1280, out_features=1280, bias=True)\n",
       "          (attn_dropout): Dropout(p=0.2, inplace=False)\n",
       "          (resid_dropout): Dropout(p=0.2, inplace=False)\n",
       "        )\n",
       "        (ln_2): LayerNorm((1280,), eps=1e-05, elementwise_affine=True)\n",
       "        (mlp): MLP(\n",
       "          (c_fc): Linear(in_features=1280, out_features=5120, bias=True)\n",
       "          (gelu): GELU(approximate='none')\n",
       "          (c_proj): Linear(in_features=5120, out_features=1280, bias=True)\n",
       "          (dropout): Dropout(p=0.2, inplace=False)\n",
       "        )\n",
       "      )\n",
       "    )\n",
       "    (ln_f): LayerNorm((1280,), eps=1e-05, elementwise_affine=True)\n",
       "  )\n",
       "  (lm_head): Linear(in_features=1280, out_features=50261, bias=False)\n",
       ")"
      ]
     },
     "execution_count": 6,
     "metadata": {},
     "output_type": "execute_result"
    }
   ],
   "source": [
    "model"
   ]
  },
  {
   "cell_type": "code",
   "execution_count": 7,
   "id": "7886f3f2",
   "metadata": {},
   "outputs": [
    {
     "name": "stdout",
     "output_type": "stream",
     "text": [
      "--- learnable parameters ---\n",
      "prompt_encoder.weight\n"
     ]
    }
   ],
   "source": [
    "print(\"--- learnable parameters ---\")\n",
    "for pn, p in model.named_parameters():\n",
    "    if p.requires_grad:\n",
    "        print(pn)"
   ]
  },
  {
   "cell_type": "code",
   "execution_count": 8,
   "id": "8677eb05",
   "metadata": {},
   "outputs": [],
   "source": [
    "import tiktoken\n",
    "\n",
    "gpt2 = tiktoken.get_encoding(\"gpt2\")\n",
    "\n",
    "end_text_token = 50256\n",
    "start_input_token = 50257\n",
    "end_input_token = 50258\n",
    "concept_delimiter_token = 50259\n",
    "pad_token = 50260\n",
    "enc = tiktoken.Encoding(\n",
    "    name=\"gpt_modified\",\n",
    "    pat_str=gpt2._pat_str,\n",
    "    mergeable_ranks=gpt2._mergeable_ranks,\n",
    "    special_tokens={\n",
    "        **gpt2._special_tokens,\n",
    "        \"<|start_of_input|>\": start_input_token,\n",
    "        \"<|end_of_input|>\": end_input_token,\n",
    "        \"<|concept_delimiter|>\": concept_delimiter_token,\n",
    "        \"<|padding|>\": pad_token,\n",
    "    },\n",
    ")"
   ]
  },
  {
   "cell_type": "code",
   "execution_count": 9,
   "id": "ad4e2b97",
   "metadata": {},
   "outputs": [
    {
     "name": "stdout",
     "output_type": "stream",
     "text": [
      "----- morning car<|endoftext|>\n",
      "\n",
      "----- the car comes out of the garage<|endoftext|>\n",
      "\n",
      "----- A car driven by a woman drives through a traffic light .<|endoftext|>\n",
      "\n",
      "----- driver in the morning<|endoftext|>\n",
      "\n",
      "----- a car stops on a driveway leading to the house<|endoftext|>\n",
      "\n"
     ]
    }
   ],
   "source": [
    "# start = \"<|start_of_input|>mirzapur<|concept_delimiter|>traffic<|concept_delimiter|>late<|end_of_input|>\"\n",
    "start = \"<|start_of_input|>car<|concept_delimiter|>morning<|end_of_input|>\"\n",
    "# start = \"a sentence using words morning and car is\"\n",
    "num_samples = 5\n",
    "max_new_tokens = 50\n",
    "temperature = 1.0\n",
    "top_k = 25\n",
    "\n",
    "x = torch.tensor(enc.encode(start,allowed_special={\"<|start_of_input|>\",\"<|end_of_input|>\",\n",
    "                                                   \"<|concept_delimiter|>\",}),\n",
    "                 dtype=torch.long,device=device)[None, ...]\n",
    "if config.get(\"prompt_vocab_size\", 0) > 0:\n",
    "    prompt = torch.arange(config[\"prompt_vocab_size\"], dtype=torch.long, device=device)[None, ...]\n",
    "else:\n",
    "    prompt = None\n",
    "with torch.no_grad():\n",
    "    for k in range(num_samples):\n",
    "        with ctx:\n",
    "            y = model.generate(x,max_new_tokens,temperature=temperature,top_k=top_k,\n",
    "                               end_token=end_text_token,prompt=prompt)\n",
    "        output = enc.decode(y[0].tolist())\n",
    "        output = output.split(start)[1]\n",
    "        print(\"-----\", output + \"\\n\")"
   ]
  },
  {
   "cell_type": "code",
   "execution_count": null,
   "id": "88a677ce",
   "metadata": {},
   "outputs": [],
   "source": []
  }
 ],
 "metadata": {
  "kernelspec": {
   "display_name": "Python 3 (ipykernel)",
   "language": "python",
   "name": "python3"
  },
  "language_info": {
   "codemirror_mode": {
    "name": "ipython",
    "version": 3
   },
   "file_extension": ".py",
   "mimetype": "text/x-python",
   "name": "python",
   "nbconvert_exporter": "python",
   "pygments_lexer": "ipython3",
   "version": "3.10.8"
  }
 },
 "nbformat": 4,
 "nbformat_minor": 5
}
