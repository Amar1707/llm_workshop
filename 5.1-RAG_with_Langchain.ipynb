{
 "cells": [
  {
   "cell_type": "markdown",
   "id": "77c3337f",
   "metadata": {
    "id": "CQ7lJK0y9gJO"
   },
   "source": [
    "# Retrieval Augmented LLM App\n",
    "<img src=\"assets/rap_banner.jpeg\">\n",
    "\n",
    "We have covered quite some ground in terms of understanding and building components for:\n",
    "- Text Representation\n",
    "- NLP Tasks\n",
    "- Pretrained Models and Transfer Learning\n",
    "- Model Fine-Tuning PEFT\n",
    "- SFT and LLM Landscape\n",
    "- Vector Databases\n",
    "- Libraries and Frameworks\n",
    "\n",
    "Now we will work through development of an app to showcase how we can leverage all the concepts into a fully functioning system\n",
    "\n",
    "__Note__: In order to keep things simple, we will leverage most high-level APIs available but the overall setup should be easily extensible"
   ]
  },
  {
   "cell_type": "markdown",
   "id": "571671d1",
   "metadata": {
    "id": "kFRjKaov9gJR"
   },
   "source": [
    "## Why Retrieval Augmentation\n",
    "\n",
    "While theoretically LLMs are capable of having super long context windows, in real world settings this is a challenge because of:\n",
    "- Inability/Limitation to ensure LLM focusses on correct sub-sections of the context\n",
    "- High Memory requirements\n",
    "- High API Cost\n",
    "- High Latency , etc.\n",
    "\n",
    "\n",
    "In order to overcome such challenges, we leverage vector databases to act as intelligent retrieval systems (again powered by LLMs) to:\n",
    "- Provide focussed context\n",
    "- Reduce memory, cost and latency requirements\n",
    "- Unlock super-abilities to use upto-date information\n",
    "- Offload trivial tasks to expert systems"
   ]
  },
  {
   "cell_type": "markdown",
   "id": "1a0cbc93",
   "metadata": {
    "id": "c1av5flhfper"
   },
   "source": [
    "## LangChain 🦜🔗\n",
    "- [LangChain](https://python.langchain.com/docs/get_started/introduction.html) is a framework for developing LLM powered applications.\n",
    "- It provides capabilities to connect LLMs to a number of different sources of data\n",
    "- Provides interfaces for language models to interact with external environment (aka _Agentic_)\n",
    "- Provides for required levels of abstractions to designing end to end applications"
   ]
  },
  {
   "cell_type": "code",
   "execution_count": null,
   "id": "ea5c855f",
   "metadata": {},
   "outputs": [],
   "source": [
    "from langchain.llms import GPT4All\n",
    "from langchain.callbacks.streaming_stdout import StreamingStdOutCallbackHandler\n",
    "from langchain.embeddings import GPT4AllEmbeddings\n",
    "from langchain.vectorstores import Chroma\n",
    "from langchain.chains import RetrievalQA\n",
    "from langchain.prompts import PromptTemplate\n",
    "import pandas as pd\n",
    "import random"
   ]
  },
  {
   "cell_type": "markdown",
   "id": "47cbdecb",
   "metadata": {},
   "source": [
    "## Movies Database\n",
    "\n",
    "https://www.kaggle.com/datasets/disham993/9000-movies-dataset"
   ]
  },
  {
   "cell_type": "code",
   "execution_count": null,
   "id": "257356a7",
   "metadata": {},
   "outputs": [],
   "source": [
    "DATA_DIR = \"data/\""
   ]
  },
  {
   "cell_type": "code",
   "execution_count": null,
   "id": "9c2c480e",
   "metadata": {
    "scrolled": true
   },
   "outputs": [],
   "source": [
    "df=pd.read_csv(DATA_DIR + \"mymoviedb.csv\",lineterminator='\\n')\n",
    "df"
   ]
  },
  {
   "cell_type": "code",
   "execution_count": null,
   "id": "dabd1b95",
   "metadata": {
    "scrolled": true
   },
   "outputs": [],
   "source": [
    "df.groupby(\"Original_Language\").size()"
   ]
  },
  {
   "cell_type": "code",
   "execution_count": null,
   "id": "0c6f044a",
   "metadata": {},
   "outputs": [],
   "source": [
    "languages={\n",
    "    \"hi\":\"hindi\",\n",
    "    \"en\":\"english\",\n",
    "    \"te\":\"telugu\",\n",
    "    \"cn\":\"chinese\",\n",
    "    \"da\":\"danish\",\n",
    "    \"de\":\"german\",\n",
    "    \"es\":\"spanish\",\n",
    "    \"fr\":\"french\",\n",
    "    \"id\":\"indonesian\",\n",
    "    \"it\":\"italian\",\n",
    "    \"ja\":\"japanese\",\n",
    "    \"ko\":\"korean\",\n",
    "    \"nl\":\"dutch\",\n",
    "    \"no\":\"norwegian\",\n",
    "    \"pl\":\"polish\",\n",
    "    \"pt\":\"portugese\",\n",
    "    \"ru\":\"russian\",\n",
    "    \"sv\":\"swedish\",\n",
    "    \"ta\":\"tamil\",\n",
    "    \"th\":\"thai\",\n",
    "    \"tr\":\"turkish\",\n",
    "    \"zh\":\"chinese\",\n",
    "    \"ml\":\"malayalam\"\n",
    "    }"
   ]
  },
  {
   "cell_type": "code",
   "execution_count": null,
   "id": "4ceeafc0",
   "metadata": {},
   "outputs": [],
   "source": [
    "sample=None\n",
    "for language in languages:\n",
    "    temp = df[df[\"Original_Language\"]==language]\n",
    "    if language == \"en\":\n",
    "        temp = temp.sample(frac = 0.1)\n",
    "    temp[\"Original_Language\"] = languages[language]\n",
    "    if sample is None:\n",
    "        sample = temp\n",
    "    else:\n",
    "        sample = pd.concat([sample, temp], ignore_index=True)\n",
    "df=sample\n",
    "df=df.sample(frac=1)\n",
    "max_popularity=df[\"Popularity\"].max()\n",
    "df[\"Popularity\"]=round(df[\"Popularity\"]*100.0/max_popularity)\n",
    "df[\"Popularity\"]=df[\"Popularity\"].astype(int)\n",
    "df[\"Vote_Average\"]=round(df[\"Vote_Average\"]*10.0)\n",
    "df[\"Vote_Average\"]=df[\"Vote_Average\"].astype(int)\n",
    "df.shape"
   ]
  },
  {
   "cell_type": "code",
   "execution_count": null,
   "id": "a8c295c9",
   "metadata": {},
   "outputs": [],
   "source": [
    "movies=[]\n",
    "for i, row in df.iterrows():\n",
    "    language = row[\"Original_Language\"]\n",
    "    movie = \"title: \" + row[\"Title\"]\n",
    "    movie += \"\\n\" + \"overview: \" + row[\"Overview\"]\n",
    "    movie += \"\\n\" + \"genre: \" + row[\"Genre\"]\n",
    "    movie += \"\\n\" + \"language: \" + row[\"Original_Language\"]\n",
    "    movie += \"\\n\" + \"release date: \" + row[\"Release_Date\"]\n",
    "    movie += \"\\n\" + \"popularity: \" + str(row[\"Popularity\"])\n",
    "    movie += \"\\n\" + \"average rating: \" + str(row[\"Vote_Average\"])\n",
    "    movies.append(movie)"
   ]
  },
  {
   "cell_type": "code",
   "execution_count": null,
   "id": "d6e3fce3",
   "metadata": {},
   "outputs": [],
   "source": [
    "movies[0]"
   ]
  },
  {
   "cell_type": "markdown",
   "id": "aa6b53f4",
   "metadata": {
    "id": "R9cjyKcNzU8i"
   },
   "source": [
    "## Vector Databases\n",
    "\n",
    "<img src=\"assets/vector_banner.jpg\" height=\"25%\">\n",
    "\n",
    "We started this workshop with **text representation** as one of the key components of any NLP system.\n",
    "As we progressed from simple Bag of Words setup to highly contextualised Transformer models, we now have rich & dense representations.\n",
    "The utility of such representations also increased multifold from word/sentence representations to features that can used for a number of downstream tasks.\n",
    "\n",
    "These representations, also called as vectors or embedding vectors are long series of numbers. Their retrieval and persistence requires specialised database management systems called **Vector Databases**.\n",
    "\n",
    "Vector Databases are particularly suited for handling data in the form of vectors, embeddings, or feature representations, which are commonly used in various applications like machine learning, natural language processing, computer vision, and recommendation systems.\n",
    "\n",
    "Key Features:\n",
    "- High-dimensional Data Support\n",
    "- Similarity Search\n",
    "- Indexing Techniques\n",
    "- Dimensionality Reduction\n",
    "\n",
    "There are a number of different off-the-shelf options available, such as:\n",
    "- [ChromaDB](https://www.trychroma.com/)\n",
    "- [PineCone](https://www.pinecone.io/)\n",
    "- [Milvus](https://milvus.io/)\n",
    "- [Weaviate](https://weaviate.io/)\n",
    "- [AeroSpike](https://aerospike.com/)\n",
    "- [OpenSearch](https://opensearch.org/)\n"
   ]
  },
  {
   "cell_type": "markdown",
   "id": "2a311cac",
   "metadata": {
    "id": "nph6RzJbDsEx"
   },
   "source": [
    "## Vector Database: ChromaDB\n",
    "\n",
    "As mentioned above, there are a number of offering available. For this workshop we will make use of\n",
    "[ChromaDB](https://www.trychroma.com/).\n",
    "\n",
    "It is a super simple setup which is easy to use. The following figure showcases the overall flow\n",
    "\n",
    "<img src=\"assets/chroma_workflow.png\">\n",
    "\n",
    "> Source :[chromadb](https://docs.trychroma.com/)"
   ]
  },
  {
   "cell_type": "code",
   "execution_count": null,
   "id": "6fe3b92f",
   "metadata": {},
   "outputs": [],
   "source": [
    "embeddings = GPT4AllEmbeddings()\n",
    "db = Chroma.from_texts(movies, embeddings)\n",
    "retriever = db.as_retriever()"
   ]
  },
  {
   "cell_type": "code",
   "execution_count": null,
   "id": "0955ec59",
   "metadata": {
    "scrolled": true
   },
   "outputs": [],
   "source": [
    "callbacks = [StreamingStdOutCallbackHandler()]\n",
    "model_path=\"/Users/amarlalwani/.cache/gpt4all/llama-2-7b-chat.ggmlv3.q4_0.bin\"\n",
    "llm = GPT4All(model=model_path, callbacks=callbacks, verbose=True)"
   ]
  },
  {
   "cell_type": "code",
   "execution_count": null,
   "id": "22ec6247",
   "metadata": {},
   "outputs": [],
   "source": [
    "template = \"\"\"[INST] <<SYS>>\n",
    "You are a helpful, intelligent and honest assistant. \\\n",
    "If you don't know the answer to the questions asked, \\\n",
    "just say that you don't know, don't try to make up an answer. \\\n",
    "Use three sentences maximum and keep the answer as concise as possible.\n",
    "<</SYS>>\n",
    "\n",
    "Use only the context provided between <begin-context> and <end-context> tags to answer the question mentioned \\\n",
    "between <begin-question> and <end-question> tags. Answer only if the context is useful and related to the question.\n",
    "<begin-context> {context} <end-context>\n",
    "<begin-question> {question} <end-question>\n",
    "Note that popularity of a movie ranges from 0 to 100 with 0 being the lowest and 100 being the highest.\n",
    "Note that rating of a movie ranges from 0 to 100, where 0 is the lowest and 100 is the highest.\n",
    "Helpful Answer: [/INST]\"\"\"\n",
    "QA_CHAIN_PROMPT = PromptTemplate.from_template(template)\n",
    "qa = RetrievalQA.from_chain_type(llm, chain_type_kwargs={\"prompt\": QA_CHAIN_PROMPT},\n",
    "                                 retriever=retriever, verbose=False, return_source_documents=True)"
   ]
  },
  {
   "cell_type": "code",
   "execution_count": null,
   "id": "c5f44aa2",
   "metadata": {},
   "outputs": [],
   "source": [
    "question = \"\"\"which is the highly rated thriller of year 2016?\"\"\"\n",
    "result = qa({\"query\": question})"
   ]
  },
  {
   "cell_type": "code",
   "execution_count": null,
   "id": "087a6171",
   "metadata": {},
   "outputs": [],
   "source": [
    "result"
   ]
  },
  {
   "cell_type": "code",
   "execution_count": null,
   "id": "54381d7a",
   "metadata": {},
   "outputs": [],
   "source": [
    "question = \"\"\"which is the best hindi movie?\"\"\"\n",
    "result = qa({\"query\": question})"
   ]
  },
  {
   "cell_type": "code",
   "execution_count": null,
   "id": "b8c19913",
   "metadata": {},
   "outputs": [],
   "source": [
    "question = \"\"\"which is the most popular hindi movie?\"\"\"\n",
    "result = qa({\"query\": question})"
   ]
  },
  {
   "cell_type": "code",
   "execution_count": null,
   "id": "374ff3f3",
   "metadata": {},
   "outputs": [],
   "source": [
    "question = \"\"\"Which is the most popular hindi movie? It might not be highly rated.\"\"\"\n",
    "result = qa({\"query\": question})"
   ]
  },
  {
   "cell_type": "code",
   "execution_count": null,
   "id": "b3da2e3c",
   "metadata": {},
   "outputs": [],
   "source": [
    "question = \"\"\"Out of the two movies: Loop Lapeta and Sooryavansham, which is more popular?\"\"\"\n",
    "result = qa({\"query\": question})"
   ]
  },
  {
   "cell_type": "code",
   "execution_count": null,
   "id": "1ef4841c",
   "metadata": {},
   "outputs": [],
   "source": [
    "question = \"\"\"In which month was the movie The Kashmir Files released?\"\"\"\n",
    "result = qa({\"query\": question})"
   ]
  },
  {
   "cell_type": "code",
   "execution_count": null,
   "id": "c262da45",
   "metadata": {},
   "outputs": [],
   "source": [
    "question = \"\"\"Do you know of any movie about Kashmir?\"\"\"\n",
    "result = qa({\"query\": question})"
   ]
  },
  {
   "cell_type": "code",
   "execution_count": null,
   "id": "a67ebc08",
   "metadata": {},
   "outputs": [],
   "source": [
    "question = \"\"\"Recommend me a good RomCom\"\"\"\n",
    "result = qa({\"query\": question})"
   ]
  },
  {
   "cell_type": "code",
   "execution_count": null,
   "id": "a0edba2b",
   "metadata": {},
   "outputs": [],
   "source": [
    "question = \"\"\"Recommend me a good RomCom\"\"\"\n",
    "result = qa({\"query\": question})"
   ]
  },
  {
   "cell_type": "code",
   "execution_count": null,
   "id": "f0d00336",
   "metadata": {},
   "outputs": [],
   "source": [
    "question = \"\"\"What is the movie Kahaani about?\"\"\"\n",
    "result = qa({\"query\": question})"
   ]
  },
  {
   "cell_type": "code",
   "execution_count": null,
   "id": "4810fd07",
   "metadata": {},
   "outputs": [],
   "source": [
    "question = \"\"\"What is the hindi movie Kahaani about?\"\"\"\n",
    "result = qa({\"query\": question})"
   ]
  },
  {
   "cell_type": "code",
   "execution_count": null,
   "id": "a14eef86",
   "metadata": {},
   "outputs": [],
   "source": [
    "question = \"\"\"Recommend me a movie about two brothers where one is successful and the other is not.\"\"\"\n",
    "result = qa({\"query\": question})"
   ]
  },
  {
   "cell_type": "code",
   "execution_count": null,
   "id": "1fb060ae",
   "metadata": {},
   "outputs": [],
   "source": [
    "question = \"\"\"Recommend me a movie about a scientist who discovers the cure for a deadly disease.\"\"\"\n",
    "result = qa({\"query\": question})"
   ]
  },
  {
   "cell_type": "code",
   "execution_count": null,
   "id": "644abb49",
   "metadata": {},
   "outputs": [],
   "source": [
    "question = \"\"\"Recommend me a movie about education, \\\n",
    "where it teaches the viewers to chase excellence and not focus on rote learning.\n",
    "If such a movie exists, also mention the language and release year of the movie.\"\"\"\n",
    "result = qa({\"query\": question})"
   ]
  },
  {
   "cell_type": "code",
   "execution_count": null,
   "id": "42994680",
   "metadata": {},
   "outputs": [],
   "source": [
    "question = \"\"\"Recommend me a crime drama which is not very popular but is critically appreciated.\"\"\"\n",
    "result = qa({\"query\": question})"
   ]
  },
  {
   "cell_type": "code",
   "execution_count": null,
   "id": "10a2ab5b",
   "metadata": {},
   "outputs": [],
   "source": [
    "question = \"\"\"Suggest me a movie which is not very popular but is critically appreciated.\"\"\"\n",
    "result = qa({\"query\": question})"
   ]
  },
  {
   "cell_type": "code",
   "execution_count": null,
   "id": "8e740587",
   "metadata": {},
   "outputs": [],
   "source": [
    "question = \"\"\"Suggest me a movie which is based on Shakespeare's work.\"\"\"\n",
    "result = qa({\"query\": question})"
   ]
  },
  {
   "cell_type": "code",
   "execution_count": null,
   "id": "9c46b068",
   "metadata": {},
   "outputs": [],
   "source": [
    "question = \"\"\"Suggest me a movie which is the story of a female's triumph in the sexist and patriarchical society.\"\"\"\n",
    "result = qa({\"query\": question})"
   ]
  },
  {
   "cell_type": "code",
   "execution_count": null,
   "id": "b9824e8b",
   "metadata": {},
   "outputs": [],
   "source": [
    "question = \"\"\"Suggest me a movie with some nice music and songs.\"\"\"\n",
    "result = qa({\"query\": question})"
   ]
  },
  {
   "cell_type": "code",
   "execution_count": null,
   "id": "c8786004",
   "metadata": {},
   "outputs": [],
   "source": [
    "question = \"\"\"What is the story of Amitabh Bachchan's Sooryavansham?\"\"\"\n",
    "result = qa({\"query\": question})"
   ]
  },
  {
   "cell_type": "code",
   "execution_count": null,
   "id": "b3d5b05c",
   "metadata": {},
   "outputs": [],
   "source": [
    "question = \"\"\"What is the story of Karan Arjun movie?\"\"\"\n",
    "result = qa({\"query\": question})"
   ]
  },
  {
   "cell_type": "code",
   "execution_count": null,
   "id": "5b37404b",
   "metadata": {},
   "outputs": [],
   "source": [
    "question = \"\"\"Give me a name of an english movie whose popularity is atleast 90\"\"\"\n",
    "result = qa({\"query\": question})"
   ]
  },
  {
   "cell_type": "code",
   "execution_count": null,
   "id": "47dfc825",
   "metadata": {},
   "outputs": [],
   "source": [
    "question = \"\"\"Give me a name of an english movie whose popularity is above 80 but ratings are below 30\"\"\"\n",
    "result = qa({\"query\": question})"
   ]
  },
  {
   "cell_type": "code",
   "execution_count": null,
   "id": "8cb50f03",
   "metadata": {},
   "outputs": [],
   "source": [
    "question = \"\"\"Recommend me a good movie about Indian immigrants in US\"\"\"\n",
    "result = qa({\"query\": question})"
   ]
  },
  {
   "cell_type": "code",
   "execution_count": null,
   "id": "5dc6d708",
   "metadata": {},
   "outputs": [],
   "source": [
    "question = \"\"\"Recommend me a good movie about Asian immigrants in US\"\"\"\n",
    "result = qa({\"query\": question})"
   ]
  },
  {
   "cell_type": "code",
   "execution_count": null,
   "id": "b6acd941",
   "metadata": {},
   "outputs": [],
   "source": [
    "df[df[\"Original_Language\"]==\"hindi\"].sort_values(\"Vote_Average\")"
   ]
  },
  {
   "cell_type": "code",
   "execution_count": null,
   "id": "da8e5cec",
   "metadata": {},
   "outputs": [],
   "source": [
    "df[(df[\"Release_Date\"].str.contains(\"2016\"))&(df[\"Genre\"].str.contains(\"Thriller\"))].sort_values(\"Vote_Average\")"
   ]
  },
  {
   "cell_type": "code",
   "execution_count": null,
   "id": "670b2048",
   "metadata": {},
   "outputs": [],
   "source": [
    "df[df[\"Title\"].str.contains(\"Most Violent\")]"
   ]
  },
  {
   "cell_type": "code",
   "execution_count": null,
   "id": "5c90980a",
   "metadata": {},
   "outputs": [],
   "source": [
    "df[(df[\"Original_Language\"]==\"chinese\")&(df[\"Popularity\"]>=80)&(df[\"Vote_Average\"]<=30)]"
   ]
  },
  {
   "cell_type": "markdown",
   "id": "1798a173",
   "metadata": {},
   "source": [
    "## Beyond LangChain\n",
    "\n",
    "### [LlamaIndex](https://www.llamaindex.ai/)\n",
    "Similar to langchain, LlamaIndex provides utilities to extend the power of LLMs through various integrations for:\n",
    "    - Data ingestion\n",
    "    - Data Indexing\n",
    "    - Querying\n",
    "\n",
    "### [LangSmith](https://docs.smith.langchain.com/)\n",
    "Build production grade applications by providing tools & utilities for\n",
    "    - Debugging\n",
    "    - Testing\n",
    "    - Integrations\n",
    "    - Token Usage\n",
    "\n",
    "### [HuggingFace](https://huggingface.co/models?other=LLM)\n",
    "The defacto standard for not just LLMs but large models across NLP, Computer vision and more.\n",
    "Libraries such as ``transformers``, ``diffusers``, ``accelerate`` and more provide ease of working\n",
    "with deep learning models in pytorch/tensorflow. Huggingface now also provides ``model-cards`` and ``model-spaces``\n",
    "for hosting and executing models on cloud for free.\n",
    "\n",
    "## [LLM-Foundry](https://github.com/mosaicml/llm-foundry)\n",
    "Mosaic ML released their own GPT style models based on special features such as [Flash Attention](https://arxiv.org/pdf/2205.14135.pdf) & [FasterTransformer](https://github.com/NVIDIA/FasterTransformer) for efficient/faster\n",
    "training along with ALiBi for extended context lengths (65k+ tokens). LLM-Foundary is a package built to assist their implementations\n",
    "for training and fine-tuning LLMs.\n",
    "\n",
    "\n"
   ]
  }
 ],
 "metadata": {
  "kernelspec": {
   "display_name": "Python 3 (ipykernel)",
   "language": "python",
   "name": "python3"
  },
  "language_info": {
   "codemirror_mode": {
    "name": "ipython",
    "version": 3
   },
   "file_extension": ".py",
   "mimetype": "text/x-python",
   "name": "python",
   "nbconvert_exporter": "python",
   "pygments_lexer": "ipython3",
   "version": "3.10.8"
  }
 },
 "nbformat": 4,
 "nbformat_minor": 5
}
